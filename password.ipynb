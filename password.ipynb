{
  "nbformat": 4,
  "nbformat_minor": 0,
  "metadata": {
    "colab": {
      "provenance": []
    },
    "kernelspec": {
      "name": "python3",
      "display_name": "Python 3"
    },
    "language_info": {
      "name": "python"
    }
  },
  "cells": [
    {
      "cell_type": "code",
      "execution_count": 1,
      "metadata": {
        "id": "24kCd5j-jEnV",
        "outputId": "bfcc000e-d073-4781-82e2-881f0dbbb4dd",
        "colab": {
          "base_uri": "https://localhost:8080/"
        }
      },
      "outputs": [
        {
          "output_type": "stream",
          "name": "stdout",
          "text": [
            "Enter password length: 8\n",
            "Your generated password is: VEVGLe#@\n"
          ]
        }
      ],
      "source": [
        "import random\n",
        "\n",
        "# Characters to use in password\n",
        "letters = \"abcdefghijklmnopqrstuvwxyzABCDEFGHIJKLMNOPQRSTUVWXYZ\"\n",
        "numbers = \"0123456789\"\n",
        "symbols = \"!@#$%^&*()\"\n",
        "\n",
        "# Combine all characters\n",
        "all_characters = letters + numbers + symbols\n",
        "\n",
        "# Ask user for password length\n",
        "length = int(input(\"Enter password length: \"))\n",
        "\n",
        "# Generate password\n",
        "password = \"\"\n",
        "for i in range(length):\n",
        "    password += random.choice(all_characters)\n",
        "\n",
        "print(\"Your generated password is:\", password)\n"
      ]
    }
  ]
}